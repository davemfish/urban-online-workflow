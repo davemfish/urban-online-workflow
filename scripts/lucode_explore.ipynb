{
 "cells": [
  {
   "cell_type": "code",
   "execution_count": 1,
   "id": "71a9445c-83fa-4c48-a96d-c33d5e7aa9d9",
   "metadata": {},
   "outputs": [],
   "source": [
    "from collections import Counter\n",
    "\n",
    "import numpy\n",
    "import pygeoprocessing\n",
    "import pandas\n",
    "import ipywidgets as widgets\n",
    "from IPython.display import display"
   ]
  },
  {
   "cell_type": "code",
   "execution_count": 2,
   "id": "87c6dfbb-017f-4164-b9f9-edff36a823d2",
   "metadata": {},
   "outputs": [],
   "source": [
    "# ! mamba install jupyterlab_widgets"
   ]
  },
  {
   "cell_type": "code",
   "execution_count": 2,
   "id": "ac4bf3f9-3543-42da-8afe-56ea96a16262",
   "metadata": {},
   "outputs": [],
   "source": [
    "raster_path = 'H:/Shared drives/Online Urban ES Modeling Tool/Data from Chris/Combined NLCD NLUD Tree/overlay.tif'\n",
    "csv_path = 'H:/Shared drives/Online Urban ES Modeling Tool/Data from Chris/Combined NLCD NLUD Tree/combined_structure.csv'"
   ]
  },
  {
   "cell_type": "code",
   "execution_count": 3,
   "id": "d9b31d02-51dd-4664-a576-828ff2677c91",
   "metadata": {},
   "outputs": [],
   "source": [
    "df = pandas.read_csv(csv_path)"
   ]
  },
  {
   "cell_type": "code",
   "execution_count": 4,
   "id": "718348a8-bce4-42e8-b356-1c15875232df",
   "metadata": {},
   "outputs": [
    {
     "data": {
      "text/html": [
       "<div>\n",
       "<style scoped>\n",
       "    .dataframe tbody tr th:only-of-type {\n",
       "        vertical-align: middle;\n",
       "    }\n",
       "\n",
       "    .dataframe tbody tr th {\n",
       "        vertical-align: top;\n",
       "    }\n",
       "\n",
       "    .dataframe thead th {\n",
       "        text-align: right;\n",
       "    }\n",
       "</style>\n",
       "<table border=\"1\" class=\"dataframe\">\n",
       "  <thead>\n",
       "    <tr style=\"text-align: right;\">\n",
       "      <th></th>\n",
       "      <th>lucode</th>\n",
       "      <th>code</th>\n",
       "      <th>nlud</th>\n",
       "      <th>nlud tier 1</th>\n",
       "      <th>nlud tier 2</th>\n",
       "      <th>nlud tier 3</th>\n",
       "      <th>nlud colors</th>\n",
       "      <th>nlcd</th>\n",
       "      <th>nlcd lulc</th>\n",
       "      <th>nlcd colors</th>\n",
       "      <th>tree</th>\n",
       "      <th>tree canopy cover</th>\n",
       "      <th>tree colors</th>\n",
       "    </tr>\n",
       "  </thead>\n",
       "  <tbody>\n",
       "    <tr>\n",
       "      <th>0</th>\n",
       "      <td>0</td>\n",
       "      <td>111110</td>\n",
       "      <td>111</td>\n",
       "      <td>Water</td>\n",
       "      <td>Natural - area</td>\n",
       "      <td>Lake</td>\n",
       "      <td>#0070ff</td>\n",
       "      <td>11</td>\n",
       "      <td>Open Water</td>\n",
       "      <td>#476BA0</td>\n",
       "      <td>0</td>\n",
       "      <td>none</td>\n",
       "      <td>#ffffff</td>\n",
       "    </tr>\n",
       "    <tr>\n",
       "      <th>1</th>\n",
       "      <td>1</td>\n",
       "      <td>111111</td>\n",
       "      <td>111</td>\n",
       "      <td>Water</td>\n",
       "      <td>Natural - area</td>\n",
       "      <td>Lake</td>\n",
       "      <td>#0070ff</td>\n",
       "      <td>11</td>\n",
       "      <td>Open Water</td>\n",
       "      <td>#476BA0</td>\n",
       "      <td>1</td>\n",
       "      <td>low</td>\n",
       "      <td>#e5f5e0</td>\n",
       "    </tr>\n",
       "    <tr>\n",
       "      <th>2</th>\n",
       "      <td>2</td>\n",
       "      <td>111112</td>\n",
       "      <td>111</td>\n",
       "      <td>Water</td>\n",
       "      <td>Natural - area</td>\n",
       "      <td>Lake</td>\n",
       "      <td>#0070ff</td>\n",
       "      <td>11</td>\n",
       "      <td>Open Water</td>\n",
       "      <td>#476BA0</td>\n",
       "      <td>2</td>\n",
       "      <td>medium</td>\n",
       "      <td>#a1d99b</td>\n",
       "    </tr>\n",
       "    <tr>\n",
       "      <th>3</th>\n",
       "      <td>3</td>\n",
       "      <td>111113</td>\n",
       "      <td>111</td>\n",
       "      <td>Water</td>\n",
       "      <td>Natural - area</td>\n",
       "      <td>Lake</td>\n",
       "      <td>#0070ff</td>\n",
       "      <td>11</td>\n",
       "      <td>Open Water</td>\n",
       "      <td>#476BA0</td>\n",
       "      <td>3</td>\n",
       "      <td>high</td>\n",
       "      <td>#31a354</td>\n",
       "    </tr>\n",
       "    <tr>\n",
       "      <th>4</th>\n",
       "      <td>4</td>\n",
       "      <td>111120</td>\n",
       "      <td>111</td>\n",
       "      <td>Water</td>\n",
       "      <td>Natural - area</td>\n",
       "      <td>Lake</td>\n",
       "      <td>#0070ff</td>\n",
       "      <td>12</td>\n",
       "      <td>Perennial Ice/Snow</td>\n",
       "      <td>#D1DDF9</td>\n",
       "      <td>0</td>\n",
       "      <td>none</td>\n",
       "      <td>#ffffff</td>\n",
       "    </tr>\n",
       "  </tbody>\n",
       "</table>\n",
       "</div>"
      ],
      "text/plain": [
       "   lucode    code  nlud nlud tier 1     nlud tier 2 nlud tier 3 nlud colors  \\\n",
       "0       0  111110   111       Water  Natural - area        Lake     #0070ff   \n",
       "1       1  111111   111       Water  Natural - area        Lake     #0070ff   \n",
       "2       2  111112   111       Water  Natural - area        Lake     #0070ff   \n",
       "3       3  111113   111       Water  Natural - area        Lake     #0070ff   \n",
       "4       4  111120   111       Water  Natural - area        Lake     #0070ff   \n",
       "\n",
       "   nlcd           nlcd lulc nlcd colors  tree tree canopy cover tree colors  \n",
       "0    11          Open Water     #476BA0     0              none     #ffffff  \n",
       "1    11          Open Water     #476BA0     1               low     #e5f5e0  \n",
       "2    11          Open Water     #476BA0     2            medium     #a1d99b  \n",
       "3    11          Open Water     #476BA0     3              high     #31a354  \n",
       "4    12  Perennial Ice/Snow     #D1DDF9     0              none     #ffffff  "
      ]
     },
     "execution_count": 4,
     "metadata": {},
     "output_type": "execute_result"
    }
   ],
   "source": [
    "df.head()"
   ]
  },
  {
   "cell_type": "code",
   "execution_count": 5,
   "id": "5c6872dd-7515-48e7-894a-9978d24eb369",
   "metadata": {},
   "outputs": [],
   "source": [
    "def count(c, block):\n",
    "    return c + Counter(block)\n",
    "counts = pygeoprocessing.raster_reduce(count, (raster_path, 1), Counter())"
   ]
  },
  {
   "cell_type": "code",
   "execution_count": 6,
   "id": "5517d4f1-d9cd-45e8-8865-3beecc0552c3",
   "metadata": {},
   "outputs": [],
   "source": [
    "def unique(unique, block):\n",
    "    return unique.union(set(numpy.unique(block)))\n",
    "value_set = pygeoprocessing.raster_reduce(unique, (raster_path, 1), set())"
   ]
  },
  {
   "cell_type": "code",
   "execution_count": 7,
   "id": "d17adcfc-b070-433c-862d-91dd4fc1f51d",
   "metadata": {},
   "outputs": [
    {
     "data": {
      "text/plain": [
       "1556"
      ]
     },
     "execution_count": 7,
     "metadata": {},
     "output_type": "execute_result"
    }
   ],
   "source": [
    "len(value_set)"
   ]
  },
  {
   "cell_type": "code",
   "execution_count": 8,
   "id": "af753d10-29f7-48ff-b719-7f467d7f0350",
   "metadata": {},
   "outputs": [],
   "source": [
    "table = df.loc[df.lucode.isin(value_set)]"
   ]
  },
  {
   "cell_type": "code",
   "execution_count": 9,
   "id": "11795382-4941-422f-87b0-9bb8195aa3e8",
   "metadata": {},
   "outputs": [
    {
     "data": {
      "text/html": [
       "<div>\n",
       "<style scoped>\n",
       "    .dataframe tbody tr th:only-of-type {\n",
       "        vertical-align: middle;\n",
       "    }\n",
       "\n",
       "    .dataframe tbody tr th {\n",
       "        vertical-align: top;\n",
       "    }\n",
       "\n",
       "    .dataframe thead th {\n",
       "        text-align: right;\n",
       "    }\n",
       "</style>\n",
       "<table border=\"1\" class=\"dataframe\">\n",
       "  <thead>\n",
       "    <tr style=\"text-align: right;\">\n",
       "      <th></th>\n",
       "      <th>lucode</th>\n",
       "      <th>code</th>\n",
       "      <th>nlud</th>\n",
       "      <th>nlud tier 1</th>\n",
       "      <th>nlud tier 2</th>\n",
       "      <th>nlud tier 3</th>\n",
       "      <th>nlud colors</th>\n",
       "      <th>nlcd</th>\n",
       "      <th>nlcd lulc</th>\n",
       "      <th>nlcd colors</th>\n",
       "      <th>tree</th>\n",
       "      <th>tree canopy cover</th>\n",
       "      <th>tree colors</th>\n",
       "    </tr>\n",
       "  </thead>\n",
       "  <tbody>\n",
       "    <tr>\n",
       "      <th>0</th>\n",
       "      <td>0</td>\n",
       "      <td>111110</td>\n",
       "      <td>111</td>\n",
       "      <td>Water</td>\n",
       "      <td>Natural - area</td>\n",
       "      <td>Lake</td>\n",
       "      <td>#0070ff</td>\n",
       "      <td>11</td>\n",
       "      <td>Open Water</td>\n",
       "      <td>#476BA0</td>\n",
       "      <td>0</td>\n",
       "      <td>none</td>\n",
       "      <td>#ffffff</td>\n",
       "    </tr>\n",
       "    <tr>\n",
       "      <th>1</th>\n",
       "      <td>1</td>\n",
       "      <td>111111</td>\n",
       "      <td>111</td>\n",
       "      <td>Water</td>\n",
       "      <td>Natural - area</td>\n",
       "      <td>Lake</td>\n",
       "      <td>#0070ff</td>\n",
       "      <td>11</td>\n",
       "      <td>Open Water</td>\n",
       "      <td>#476BA0</td>\n",
       "      <td>1</td>\n",
       "      <td>low</td>\n",
       "      <td>#e5f5e0</td>\n",
       "    </tr>\n",
       "    <tr>\n",
       "      <th>2</th>\n",
       "      <td>2</td>\n",
       "      <td>111112</td>\n",
       "      <td>111</td>\n",
       "      <td>Water</td>\n",
       "      <td>Natural - area</td>\n",
       "      <td>Lake</td>\n",
       "      <td>#0070ff</td>\n",
       "      <td>11</td>\n",
       "      <td>Open Water</td>\n",
       "      <td>#476BA0</td>\n",
       "      <td>2</td>\n",
       "      <td>medium</td>\n",
       "      <td>#a1d99b</td>\n",
       "    </tr>\n",
       "    <tr>\n",
       "      <th>8</th>\n",
       "      <td>8</td>\n",
       "      <td>111210</td>\n",
       "      <td>111</td>\n",
       "      <td>Water</td>\n",
       "      <td>Natural - area</td>\n",
       "      <td>Lake</td>\n",
       "      <td>#0070ff</td>\n",
       "      <td>21</td>\n",
       "      <td>Developed, Open Space</td>\n",
       "      <td>#DDC9C9</td>\n",
       "      <td>0</td>\n",
       "      <td>none</td>\n",
       "      <td>#ffffff</td>\n",
       "    </tr>\n",
       "    <tr>\n",
       "      <th>9</th>\n",
       "      <td>9</td>\n",
       "      <td>111211</td>\n",
       "      <td>111</td>\n",
       "      <td>Water</td>\n",
       "      <td>Natural - area</td>\n",
       "      <td>Lake</td>\n",
       "      <td>#0070ff</td>\n",
       "      <td>21</td>\n",
       "      <td>Developed, Open Space</td>\n",
       "      <td>#DDC9C9</td>\n",
       "      <td>1</td>\n",
       "      <td>low</td>\n",
       "      <td>#e5f5e0</td>\n",
       "    </tr>\n",
       "  </tbody>\n",
       "</table>\n",
       "</div>"
      ],
      "text/plain": [
       "   lucode    code  nlud nlud tier 1     nlud tier 2 nlud tier 3 nlud colors  \\\n",
       "0       0  111110   111       Water  Natural - area        Lake     #0070ff   \n",
       "1       1  111111   111       Water  Natural - area        Lake     #0070ff   \n",
       "2       2  111112   111       Water  Natural - area        Lake     #0070ff   \n",
       "8       8  111210   111       Water  Natural - area        Lake     #0070ff   \n",
       "9       9  111211   111       Water  Natural - area        Lake     #0070ff   \n",
       "\n",
       "   nlcd              nlcd lulc nlcd colors  tree tree canopy cover tree colors  \n",
       "0    11             Open Water     #476BA0     0              none     #ffffff  \n",
       "1    11             Open Water     #476BA0     1               low     #e5f5e0  \n",
       "2    11             Open Water     #476BA0     2            medium     #a1d99b  \n",
       "8    21  Developed, Open Space     #DDC9C9     0              none     #ffffff  \n",
       "9    21  Developed, Open Space     #DDC9C9     1               low     #e5f5e0  "
      ]
     },
     "execution_count": 9,
     "metadata": {},
     "output_type": "execute_result"
    }
   ],
   "source": [
    "table.head()"
   ]
  },
  {
   "cell_type": "code",
   "execution_count": 14,
   "id": "35041cc5-d2a5-4a51-b417-33138bc5d638",
   "metadata": {},
   "outputs": [],
   "source": [
    "table.columns = [col.replace(' ', '_') for col in table.columns]"
   ]
  },
  {
   "cell_type": "code",
   "execution_count": 15,
   "id": "bdb0e3c1-7d29-4d94-bd9b-5d55ff06f7e4",
   "metadata": {},
   "outputs": [
    {
     "data": {
      "text/plain": [
       "Index(['lucode', 'code', 'nlud', 'nlud_tier_1', 'nlud_tier_2', 'nlud_tier_3',\n",
       "       'nlud_colors', 'nlcd', 'nlcd_lulc', 'nlcd_colors', 'tree',\n",
       "       'tree_canopy_cover', 'tree_colors'],\n",
       "      dtype='object')"
      ]
     },
     "execution_count": 15,
     "metadata": {},
     "output_type": "execute_result"
    }
   ],
   "source": [
    "table.columns"
   ]
  },
  {
   "cell_type": "code",
   "execution_count": 16,
   "id": "6bb720a4-4373-4a25-9853-1b9fb7ec68d7",
   "metadata": {},
   "outputs": [],
   "source": [
    "table.to_csv('H:/Shared drives/Online Urban ES Modeling Tool/Data from Chris/Combined NLCD NLUD Tree/present_in_raster.csv', index=False)"
   ]
  },
  {
   "cell_type": "code",
   "execution_count": null,
   "id": "7af7922e-e93d-4a41-9dd5-31e66b539c94",
   "metadata": {},
   "outputs": [],
   "source": []
  },
  {
   "cell_type": "code",
   "execution_count": 36,
   "id": "b616ef45-22f0-4f9b-a605-e38265c412d8",
   "metadata": {},
   "outputs": [
    {
     "data": {
      "application/vnd.jupyter.widget-view+json": {
       "model_id": "dbd416350a6e4c9381f9155a4f22fc0d",
       "version_major": 2,
       "version_minor": 0
      },
      "text/plain": [
       "Dropdown(options=(('Open Water', 11), ('Developed, High Intensity', 24), ('Cultivated Crops', 82), ('Woody Wet…"
      ]
     },
     "metadata": {},
     "output_type": "display_data"
    }
   ],
   "source": [
    "nlcd_options = list(set([(name, value) for name, value in zip(table['nlcd lulc'], table['nlcd'])]))\n",
    "nlcd = widgets.Dropdown(\n",
    "    options=nlcd_options\n",
    ")\n",
    "display(nlcd)"
   ]
  },
  {
   "cell_type": "code",
   "execution_count": 63,
   "id": "78cd8bc0-9df4-4865-a43d-885ffd1b0734",
   "metadata": {},
   "outputs": [
    {
     "data": {
      "application/vnd.jupyter.widget-view+json": {
       "model_id": "fe0ffa5e33cf420e9491731ff49cad67",
       "version_major": 2,
       "version_minor": 0
      },
      "text/plain": [
       "Dropdown(options=(('Conservation | Private easement | Wildlife conservation', 531), ('Water | Natural - area |…"
      ]
     },
     "metadata": {},
     "output_type": "display_data"
    }
   ],
   "source": [
    "t = table.loc[table.nlcd == nlcd.value]\n",
    "nlud_options = list(set([(' | '.join([name1, name2, name3]), value) for name1, name2, name3, value in zip(t['nlud tier 1'], t['nlud tier 2'], t['nlud tier 3'] , t['nlud'])]))\n",
    "nlud = widgets.Dropdown(\n",
    "    options=nlud_options\n",
    ")\n",
    "display(nlud)"
   ]
  },
  {
   "cell_type": "code",
   "execution_count": 66,
   "id": "bf3f8d0d-3f54-46cf-a842-a7e187bd5b36",
   "metadata": {},
   "outputs": [
    {
     "data": {
      "text/html": [
       "<div>\n",
       "<style scoped>\n",
       "    .dataframe tbody tr th:only-of-type {\n",
       "        vertical-align: middle;\n",
       "    }\n",
       "\n",
       "    .dataframe tbody tr th {\n",
       "        vertical-align: top;\n",
       "    }\n",
       "\n",
       "    .dataframe thead th {\n",
       "        text-align: right;\n",
       "    }\n",
       "</style>\n",
       "<table border=\"1\" class=\"dataframe\">\n",
       "  <thead>\n",
       "    <tr style=\"text-align: right;\">\n",
       "      <th></th>\n",
       "      <th>lucode</th>\n",
       "      <th>code</th>\n",
       "      <th>nlud</th>\n",
       "      <th>nlud tier 1</th>\n",
       "      <th>nlud tier 2</th>\n",
       "      <th>nlud tier 3</th>\n",
       "      <th>nlud colors</th>\n",
       "      <th>nlcd</th>\n",
       "      <th>nlcd lulc</th>\n",
       "      <th>nlcd colors</th>\n",
       "      <th>tree</th>\n",
       "      <th>tree canopy cover</th>\n",
       "      <th>tree colors</th>\n",
       "    </tr>\n",
       "  </thead>\n",
       "  <tbody>\n",
       "    <tr>\n",
       "      <th>1440</th>\n",
       "      <td>1440</td>\n",
       "      <td>221110</td>\n",
       "      <td>221</td>\n",
       "      <td>Built-up</td>\n",
       "      <td>Commercial</td>\n",
       "      <td>Office</td>\n",
       "      <td>#df73ff</td>\n",
       "      <td>11</td>\n",
       "      <td>Open Water</td>\n",
       "      <td>#476BA0</td>\n",
       "      <td>0</td>\n",
       "      <td>none</td>\n",
       "      <td>#ffffff</td>\n",
       "    </tr>\n",
       "    <tr>\n",
       "      <th>1441</th>\n",
       "      <td>1441</td>\n",
       "      <td>221111</td>\n",
       "      <td>221</td>\n",
       "      <td>Built-up</td>\n",
       "      <td>Commercial</td>\n",
       "      <td>Office</td>\n",
       "      <td>#df73ff</td>\n",
       "      <td>11</td>\n",
       "      <td>Open Water</td>\n",
       "      <td>#476BA0</td>\n",
       "      <td>1</td>\n",
       "      <td>low</td>\n",
       "      <td>#e5f5e0</td>\n",
       "    </tr>\n",
       "    <tr>\n",
       "      <th>1442</th>\n",
       "      <td>1442</td>\n",
       "      <td>221112</td>\n",
       "      <td>221</td>\n",
       "      <td>Built-up</td>\n",
       "      <td>Commercial</td>\n",
       "      <td>Office</td>\n",
       "      <td>#df73ff</td>\n",
       "      <td>11</td>\n",
       "      <td>Open Water</td>\n",
       "      <td>#476BA0</td>\n",
       "      <td>2</td>\n",
       "      <td>medium</td>\n",
       "      <td>#a1d99b</td>\n",
       "    </tr>\n",
       "  </tbody>\n",
       "</table>\n",
       "</div>"
      ],
      "text/plain": [
       "      lucode    code  nlud nlud tier 1 nlud tier 2 nlud tier 3 nlud colors  \\\n",
       "1440    1440  221110   221    Built-up  Commercial      Office     #df73ff   \n",
       "1441    1441  221111   221    Built-up  Commercial      Office     #df73ff   \n",
       "1442    1442  221112   221    Built-up  Commercial      Office     #df73ff   \n",
       "\n",
       "      nlcd   nlcd lulc nlcd colors  tree tree canopy cover tree colors  \n",
       "1440    11  Open Water     #476BA0     0              none     #ffffff  \n",
       "1441    11  Open Water     #476BA0     1               low     #e5f5e0  \n",
       "1442    11  Open Water     #476BA0     2            medium     #a1d99b  "
      ]
     },
     "execution_count": 66,
     "metadata": {},
     "output_type": "execute_result"
    }
   ],
   "source": [
    "table.loc[(table.nlcd == nlcd.value) & (table.nlud == nlud.value)]"
   ]
  },
  {
   "cell_type": "code",
   "execution_count": 67,
   "id": "34ffe44a-7b95-4cda-a2fd-5e104d7af69d",
   "metadata": {},
   "outputs": [
    {
     "data": {
      "text/plain": [
       "14"
      ]
     },
     "execution_count": 67,
     "metadata": {},
     "output_type": "execute_result"
    }
   ],
   "source": [
    "counts[1440]"
   ]
  },
  {
   "cell_type": "code",
   "execution_count": 18,
   "id": "0f3ddc57-0474-495a-bbaf-ca97b2f785b8",
   "metadata": {},
   "outputs": [
    {
     "ename": "TypeError",
     "evalue": "'>' not supported between instances of 'Counter' and 'int'",
     "output_type": "error",
     "traceback": [
      "\u001b[1;31m---------------------------------------------------------------------------\u001b[0m",
      "\u001b[1;31mTypeError\u001b[0m                                 Traceback (most recent call last)",
      "Cell \u001b[1;32mIn[18], line 1\u001b[0m\n\u001b[1;32m----> 1\u001b[0m \u001b[43mcounts\u001b[49m\u001b[43m \u001b[49m\u001b[38;5;241;43m>\u001b[39;49m\u001b[43m \u001b[49m\u001b[38;5;241;43m1000\u001b[39;49m\n",
      "\u001b[1;31mTypeError\u001b[0m: '>' not supported between instances of 'Counter' and 'int'"
     ]
    }
   ],
   "source": [
    "counts > 1000"
   ]
  },
  {
   "cell_type": "code",
   "execution_count": null,
   "id": "fe45e36b-2eb3-42ce-860f-e764129a2c78",
   "metadata": {},
   "outputs": [],
   "source": []
  }
 ],
 "metadata": {
  "kernelspec": {
   "display_name": "Python 3 (ipykernel)",
   "language": "python",
   "name": "python3"
  },
  "language_info": {
   "codemirror_mode": {
    "name": "ipython",
    "version": 3
   },
   "file_extension": ".py",
   "mimetype": "text/x-python",
   "name": "python",
   "nbconvert_exporter": "python",
   "pygments_lexer": "ipython3",
   "version": "3.11.4"
  }
 },
 "nbformat": 4,
 "nbformat_minor": 5
}
